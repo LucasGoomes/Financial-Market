{
  "nbformat": 4,
  "nbformat_minor": 0,
  "metadata": {
    "colab": {
      "provenance": [],
      "authorship_tag": "ABX9TyMJrLEc2WmnuLq/x8CNbR6d"
    },
    "kernelspec": {
      "name": "python3",
      "display_name": "Python 3"
    },
    "language_info": {
      "name": "python"
    }
  },
  "cells": [
    {
      "cell_type": "code",
      "execution_count": null,
      "metadata": {
        "id": "ZIOsr82db4c-"
      },
      "outputs": [],
      "source": [
        "#libs\n",
        "import numpy as np\n",
        "import pandas as pd\n",
        "import matplotlib.pyplot as plt\n",
        "import seaborn as sns\n",
        "import plotly.graph_objects as go"
      ]
    },
    {
      "cell_type": "code",
      "source": [
        "db = pd.read_excel('Vase_004 - Magalu.xlsx')"
      ],
      "metadata": {
        "id": "JYrDqa_BduSq"
      },
      "execution_count": null,
      "outputs": []
    },
    {
      "cell_type": "code",
      "source": [
        "db.head()"
      ],
      "metadata": {
        "id": "paMmGDL_eb9_"
      },
      "execution_count": null,
      "outputs": []
    },
    {
      "cell_type": "code",
      "source": [
        "db.shape"
      ],
      "metadata": {
        "id": "cKuQOwNlevw6"
      },
      "execution_count": null,
      "outputs": []
    },
    {
      "cell_type": "code",
      "source": [
        "db.describe()"
      ],
      "metadata": {
        "id": "Lbg7DigVep1Q"
      },
      "execution_count": null,
      "outputs": []
    },
    {
      "cell_type": "code",
      "source": [
        "db.info()"
      ],
      "metadata": {
        "id": "JLuNA3Adem7Y"
      },
      "execution_count": null,
      "outputs": []
    },
    {
      "cell_type": "code",
      "source": [
        "#transformando a data em index\n",
        "data = db.set_index('Data')\n",
        "data.head()"
      ],
      "metadata": {
        "id": "JMNyRNUQe-kO"
      },
      "execution_count": null,
      "outputs": []
    },
    {
      "cell_type": "code",
      "source": [
        "#series temporais\n",
        "plt.style.use('seaborn-darkgrid')\n",
        "plt.figure(figsize=(16,5))\n",
        "plt.title('Análise das ações Magalu - fechamento',fontsize=20,loc='center')\n",
        "plt.plot(db.index, db['Fechamento'])\n",
        "plt.xlabel('Período da cotação')\n",
        "plt.ylabel('Valor da ação (R$)')"
      ],
      "metadata": {
        "id": "QagYHcPifRX0"
      },
      "execution_count": null,
      "outputs": []
    },
    {
      "cell_type": "code",
      "source": [
        "#agrupando os registros por dia e calculando a média\n",
        "media_movel = data['Fechamento'].rolling(5).mean()\n",
        "media_tendencia = data['Fechamento'].rolling(30).mean()\n"
      ],
      "metadata": {
        "id": "JOoXM4ZCg3T2"
      },
      "execution_count": null,
      "outputs": []
    },
    {
      "cell_type": "code",
      "source": [
        "plt.style.use('seaborn-darkgrid')\n",
        "plt.figure(figsize=(16,5))\n",
        "plt.title('Análise das ações Magalu - fechamento (média)',fontsize=20,loc='center')\n",
        "\n",
        "plt.plot(data.index, db['Fechamento']) #azul\n",
        "plt.plot(data.index, media_movel) #laranja\n",
        "plt.plot(data.index, media_tendencia) #verde\n",
        "\n",
        "plt.xlabel('Período da cotação')\n",
        "plt.ylabel('Valor da ação (R$)')"
      ],
      "metadata": {
        "id": "3nf-8vbShXfY"
      },
      "execution_count": null,
      "outputs": []
    },
    {
      "cell_type": "code",
      "source": [
        "#boxplot mensal dos fechamentos\n",
        "db['Mes'] = db['Data'].dt.month\n",
        "\n",
        "plt.figure(figsize=(16,5))\n",
        "sns.boxplot(data=db,x='Mes',y='Fechamento')"
      ],
      "metadata": {
        "id": "RPXdHLiJiE_Q"
      },
      "execution_count": null,
      "outputs": []
    },
    {
      "cell_type": "code",
      "source": [
        "db.groupby(['Mes']).describe()['Fechamento']"
      ],
      "metadata": {
        "id": "ZkbQdtHGi7CS"
      },
      "execution_count": null,
      "outputs": []
    },
    {
      "cell_type": "code",
      "source": [
        "#vermelho = fechamento em cada\n",
        "#verde = fechamento em alta\n",
        "grafico = go.Figure(\n",
        "    data=[\n",
        "        go.Candlestick(\n",
        "            x = data.index,\n",
        "            open = data['Abertura'],\n",
        "            high = data['Maior'],\n",
        "            low = data['Menor'],\n",
        "            close = data['Fechamento']\n",
        "        )\n",
        "    ]\n",
        ")\n",
        "grafico.update_layout(xaxis_rangeslider_visible=False)\n",
        "grafico.show()"
      ],
      "metadata": {
        "id": "IMmQ6w5AjCgx"
      },
      "execution_count": null,
      "outputs": []
    }
  ]
}